{
  "nbformat": 4,
  "nbformat_minor": 0,
  "metadata": {
    "colab": {
      "provenance": []
    },
    "kernelspec": {
      "name": "python3",
      "display_name": "Python 3"
    },
    "language_info": {
      "name": "python"
    }
  },
  "cells": [
    {
      "cell_type": "markdown",
      "source": [
        "\n",
        "The Fashion MNIST dataset consists of 60,000 training images and 10,000 test images, each sized 28x28 pixels. This dataset contains 10 different clothing categories, such as T-shirts, trousers, sweaters, dresses, and shoes."
      ],
      "metadata": {
        "id": "ttbpaLCI-XDr"
      }
    },
    {
      "cell_type": "markdown",
      "source": [
        "In this assignment, I will experiment with different Autoencoder architectures, train an Autoencoder, calculate and visualize the loss and accuracy for each epoch, and then select the best architecture to generate new clothes using the test data."
      ],
      "metadata": {
        "id": "wncX9BXU-mck"
      }
    },
    {
      "cell_type": "markdown",
      "source": [
        "Import Library"
      ],
      "metadata": {
        "id": "YK-qFrDI89Xe"
      }
    },
    {
      "cell_type": "code",
      "execution_count": 1,
      "metadata": {
        "id": "IlXlPOYz7nR9"
      },
      "outputs": [],
      "source": [
        "%matplotlib inline\n",
        "import torch\n",
        "import matplotlib.pyplot as plt\n",
        "import torch.nn as nn\n",
        "import torch.nn.functional as F\n",
        "from torch.autograd import Variable\n",
        "import torch.optim as optim\n",
        "import torchvision\n",
        "from torchvision import datasets, transforms\n",
        "import numpy as np\n",
        "from PIL import Image\n",
        "import copy\n",
        "import time"
      ]
    },
    {
      "cell_type": "markdown",
      "source": [
        "Import data"
      ],
      "metadata": {
        "id": "KGefypjZ8_gW"
      }
    },
    {
      "cell_type": "code",
      "source": [
        "train_loader = torch.utils.data.DataLoader(\n",
        "    datasets.FashionMNIST('./fmnist/', train=True, download=True,\n",
        "                          transform=transforms.Compose([\n",
        "                              transforms.ToTensor(),\n",
        "                          ])),\n",
        "    batch_size=1024,\n",
        "    shuffle=True,\n",
        "    num_workers=1,\n",
        "    pin_memory=True\n",
        ")\n",
        "\n",
        "test_loader = torch.utils.data.DataLoader(\n",
        "    datasets.FashionMNIST('./fmnist/', train=False,\n",
        "                          transform=transforms.Compose([\n",
        "                              transforms.ToTensor(),\n",
        "                          ])),\n",
        "    batch_size=1024,\n",
        "    shuffle=True,\n",
        "    num_workers=1,\n",
        "    pin_memory=True\n",
        ")"
      ],
      "metadata": {
        "colab": {
          "base_uri": "https://localhost:8080/"
        },
        "id": "Pdqt3r8N7pyQ",
        "outputId": "fb2605aa-2f33-47f5-e0a2-bbd7e7f7e5f3"
      },
      "execution_count": 2,
      "outputs": [
        {
          "output_type": "stream",
          "name": "stdout",
          "text": [
            "Downloading http://fashion-mnist.s3-website.eu-central-1.amazonaws.com/train-images-idx3-ubyte.gz\n",
            "Downloading http://fashion-mnist.s3-website.eu-central-1.amazonaws.com/train-images-idx3-ubyte.gz to ./fmnist/FashionMNIST/raw/train-images-idx3-ubyte.gz\n"
          ]
        },
        {
          "output_type": "stream",
          "name": "stderr",
          "text": [
            "100%|██████████| 26.4M/26.4M [00:01<00:00, 19.6MB/s]\n"
          ]
        },
        {
          "output_type": "stream",
          "name": "stdout",
          "text": [
            "Extracting ./fmnist/FashionMNIST/raw/train-images-idx3-ubyte.gz to ./fmnist/FashionMNIST/raw\n",
            "\n",
            "Downloading http://fashion-mnist.s3-website.eu-central-1.amazonaws.com/train-labels-idx1-ubyte.gz\n",
            "Downloading http://fashion-mnist.s3-website.eu-central-1.amazonaws.com/train-labels-idx1-ubyte.gz to ./fmnist/FashionMNIST/raw/train-labels-idx1-ubyte.gz\n"
          ]
        },
        {
          "output_type": "stream",
          "name": "stderr",
          "text": [
            "100%|██████████| 29.5k/29.5k [00:00<00:00, 299kB/s]\n"
          ]
        },
        {
          "output_type": "stream",
          "name": "stdout",
          "text": [
            "Extracting ./fmnist/FashionMNIST/raw/train-labels-idx1-ubyte.gz to ./fmnist/FashionMNIST/raw\n",
            "\n",
            "Downloading http://fashion-mnist.s3-website.eu-central-1.amazonaws.com/t10k-images-idx3-ubyte.gz\n",
            "Downloading http://fashion-mnist.s3-website.eu-central-1.amazonaws.com/t10k-images-idx3-ubyte.gz to ./fmnist/FashionMNIST/raw/t10k-images-idx3-ubyte.gz\n"
          ]
        },
        {
          "output_type": "stream",
          "name": "stderr",
          "text": [
            "100%|██████████| 4.42M/4.42M [00:00<00:00, 5.43MB/s]\n"
          ]
        },
        {
          "output_type": "stream",
          "name": "stdout",
          "text": [
            "Extracting ./fmnist/FashionMNIST/raw/t10k-images-idx3-ubyte.gz to ./fmnist/FashionMNIST/raw\n",
            "\n",
            "Downloading http://fashion-mnist.s3-website.eu-central-1.amazonaws.com/t10k-labels-idx1-ubyte.gz\n",
            "Downloading http://fashion-mnist.s3-website.eu-central-1.amazonaws.com/t10k-labels-idx1-ubyte.gz to ./fmnist/FashionMNIST/raw/t10k-labels-idx1-ubyte.gz\n"
          ]
        },
        {
          "output_type": "stream",
          "name": "stderr",
          "text": [
            "100%|██████████| 5.15k/5.15k [00:00<00:00, 16.8MB/s]"
          ]
        },
        {
          "output_type": "stream",
          "name": "stdout",
          "text": [
            "Extracting ./fmnist/FashionMNIST/raw/t10k-labels-idx1-ubyte.gz to ./fmnist/FashionMNIST/raw\n",
            "\n"
          ]
        },
        {
          "output_type": "stream",
          "name": "stderr",
          "text": [
            "\n"
          ]
        }
      ]
    },
    {
      "cell_type": "markdown",
      "source": [
        "Define the transform to normalize the data"
      ],
      "metadata": {
        "id": "YdEQUXen9ajg"
      }
    },
    {
      "cell_type": "code",
      "source": [
        "\n",
        "transform = transforms.Compose([transforms.ToTensor(), transforms.Normalize((0.5,), (0.5,))])\n",
        "\n",
        "\n",
        "trainset = datasets.FashionMNIST(root='./data', train=True, download=True, transform=transform)\n",
        "trainloader = torch.utils.data.DataLoader(trainset, batch_size=64, shuffle=True)\n",
        "\n",
        "testset = datasets.FashionMNIST(root='./data', train=False, download=True, transform=transform)\n",
        "testloader = torch.utils.data.DataLoader(testset, batch_size=64, shuffle=True)\n",
        "\n",
        "\n",
        "print(f\"Number of samples in train set: {len(trainset)}\")\n",
        "print(f\"Number of samples in test set: {len(testset)}\")"
      ],
      "metadata": {
        "colab": {
          "base_uri": "https://localhost:8080/"
        },
        "id": "jbld8IKO71nU",
        "outputId": "c7d55527-5e85-4f90-c3d8-71ad2787a969"
      },
      "execution_count": 3,
      "outputs": [
        {
          "output_type": "stream",
          "name": "stdout",
          "text": [
            "Downloading http://fashion-mnist.s3-website.eu-central-1.amazonaws.com/train-images-idx3-ubyte.gz\n",
            "Downloading http://fashion-mnist.s3-website.eu-central-1.amazonaws.com/train-images-idx3-ubyte.gz to ./data/FashionMNIST/raw/train-images-idx3-ubyte.gz\n"
          ]
        },
        {
          "output_type": "stream",
          "name": "stderr",
          "text": [
            "100%|██████████| 26.4M/26.4M [00:01<00:00, 17.6MB/s]\n"
          ]
        },
        {
          "output_type": "stream",
          "name": "stdout",
          "text": [
            "Extracting ./data/FashionMNIST/raw/train-images-idx3-ubyte.gz to ./data/FashionMNIST/raw\n",
            "\n",
            "Downloading http://fashion-mnist.s3-website.eu-central-1.amazonaws.com/train-labels-idx1-ubyte.gz\n",
            "Downloading http://fashion-mnist.s3-website.eu-central-1.amazonaws.com/train-labels-idx1-ubyte.gz to ./data/FashionMNIST/raw/train-labels-idx1-ubyte.gz\n"
          ]
        },
        {
          "output_type": "stream",
          "name": "stderr",
          "text": [
            "100%|██████████| 29.5k/29.5k [00:00<00:00, 305kB/s]\n"
          ]
        },
        {
          "output_type": "stream",
          "name": "stdout",
          "text": [
            "Extracting ./data/FashionMNIST/raw/train-labels-idx1-ubyte.gz to ./data/FashionMNIST/raw\n",
            "\n",
            "Downloading http://fashion-mnist.s3-website.eu-central-1.amazonaws.com/t10k-images-idx3-ubyte.gz\n",
            "Downloading http://fashion-mnist.s3-website.eu-central-1.amazonaws.com/t10k-images-idx3-ubyte.gz to ./data/FashionMNIST/raw/t10k-images-idx3-ubyte.gz\n"
          ]
        },
        {
          "output_type": "stream",
          "name": "stderr",
          "text": [
            "100%|██████████| 4.42M/4.42M [00:00<00:00, 5.42MB/s]\n"
          ]
        },
        {
          "output_type": "stream",
          "name": "stdout",
          "text": [
            "Extracting ./data/FashionMNIST/raw/t10k-images-idx3-ubyte.gz to ./data/FashionMNIST/raw\n",
            "\n",
            "Downloading http://fashion-mnist.s3-website.eu-central-1.amazonaws.com/t10k-labels-idx1-ubyte.gz\n",
            "Downloading http://fashion-mnist.s3-website.eu-central-1.amazonaws.com/t10k-labels-idx1-ubyte.gz to ./data/FashionMNIST/raw/t10k-labels-idx1-ubyte.gz\n"
          ]
        },
        {
          "output_type": "stream",
          "name": "stderr",
          "text": [
            "100%|██████████| 5.15k/5.15k [00:00<00:00, 5.51MB/s]"
          ]
        },
        {
          "output_type": "stream",
          "name": "stdout",
          "text": [
            "Extracting ./data/FashionMNIST/raw/t10k-labels-idx1-ubyte.gz to ./data/FashionMNIST/raw\n",
            "\n",
            "Number of samples in train set: 60000\n",
            "Number of samples in test set: 10000\n"
          ]
        },
        {
          "output_type": "stream",
          "name": "stderr",
          "text": [
            "\n"
          ]
        }
      ]
    },
    {
      "cell_type": "markdown",
      "source": [
        "Visualize a sample image from the training set"
      ],
      "metadata": {
        "id": "w5PKpZeL9etW"
      }
    },
    {
      "cell_type": "code",
      "source": [
        "\n",
        "img, label = trainset[0]\n",
        "img_np = img.squeeze(0).cpu().numpy()\n",
        "plt.imshow(img_np, cmap='gray')\n",
        "plt.title(f\"Label: {label}\")\n",
        "plt.show()"
      ],
      "metadata": {
        "colab": {
          "base_uri": "https://localhost:8080/",
          "height": 452
        },
        "id": "f5Ov6WhE74hW",
        "outputId": "83a5ac35-33b9-4b35-9b24-a3214b9c6f39"
      },
      "execution_count": 4,
      "outputs": [
        {
          "output_type": "display_data",
          "data": {
            "text/plain": [
              "<Figure size 640x480 with 1 Axes>"
            ],
            "image/png": "[encoded data removed]"
          },
          "metadata": {}
        }
      ]
    },
    {
      "cell_type": "code",
      "source": [
        "class Autoencoder(nn.Module):\n",
        "    def __init__(self):\n",
        "        super(Autoencoder, self).__init__()\n",
        "        self.encoder = nn.Sequential(\n",
        "            nn.Linear(28*28, 100),\n",
        "            nn.ReLU(),\n",
        "        )\n",
        "        self.decoder = nn.Sequential(\n",
        "            nn.Linear(100, 28*28),\n",
        "            nn.Sigmoid(),\n",
        "        )\n",
        "\n",
        "    def forward(self, x):\n",
        "        x = x.view(-1, 28*28)\n",
        "        x = self.encoder(x)\n",
        "        x = self.decoder(x)\n",
        "        return x"
      ],
      "metadata": {
        "id": "QQCtxAJ277H2"
      },
      "execution_count": 5,
      "outputs": []
    },
    {
      "cell_type": "code",
      "source": [
        "class AutoencoderMedium(nn.Module):\n",
        "    def __init__(self):\n",
        "        super(AutoencoderMedium, self).__init__()\n",
        "        self.encoder = nn.Sequential(\n",
        "            nn.Linear(28*28, 128),\n",
        "            nn.ReLU(),\n",
        "            nn.Linear(128, 64),\n",
        "            nn.ReLU(),\n",
        "        )\n",
        "        self.decoder = nn.Sequential(\n",
        "            nn.Linear(64, 128),\n",
        "            nn.ReLU(),\n",
        "            nn.Linear(128, 28*28),\n",
        "            nn.Sigmoid(),\n",
        "        )\n",
        "\n",
        "    def forward(self, x):\n",
        "        x = x.view(-1, 28*28)\n",
        "        x = self.encoder(x)\n",
        "        x = self.decoder(x)\n",
        "        return x"
      ],
      "metadata": {
        "id": "tqI3IAdt79Fm"
      },
      "execution_count": 6,
      "outputs": []
    },
    {
      "cell_type": "code",
      "source": [
        "class AutoencoderDeep(nn.Module):\n",
        "    def __init__(self):\n",
        "        super(AutoencoderDeep, self).__init__()\n",
        "        self.encoder = nn.Sequential(\n",
        "            nn.Linear(28*28, 256),\n",
        "            nn.ReLU(),\n",
        "            nn.Linear(256, 128),\n",
        "            nn.ReLU(),\n",
        "            nn.Linear(128, 64),\n",
        "            nn.ReLU(),\n",
        "        )\n",
        "        self.decoder = nn.Sequential(\n",
        "            nn.Linear(64, 128),\n",
        "            nn.ReLU(),\n",
        "            nn.Linear(128, 256),\n",
        "            nn.ReLU(),\n",
        "            nn.Linear(256, 28*28),\n",
        "            nn.Sigmoid(),\n",
        "        )\n",
        "\n",
        "    def forward(self, x):\n",
        "        x = x.view(-1, 28*28)\n",
        "        x = self.encoder(x)\n",
        "        x = self.decoder(x)\n",
        "        return x"
      ],
      "metadata": {
        "id": "Mo5UwnPN7_C4"
      },
      "execution_count": 7,
      "outputs": []
    },
    {
      "cell_type": "markdown",
      "source": [
        "Training function"
      ],
      "metadata": {
        "id": "WLy3sRmR9hnc"
      }
    },
    {
      "cell_type": "code",
      "source": [
        "\n",
        "def train_autoencoder(model, trainloader, epochs=5):\n",
        "    criterion = nn.MSELoss()\n",
        "    optimizer = optim.Adam(model.parameters(), lr=0.001)\n",
        "\n",
        "    train_loss = []\n",
        "\n",
        "    for epoch in range(epochs):\n",
        "        running_loss = 0.0\n",
        "        for data, _ in trainloader:\n",
        "            data = data.to(device)\n",
        "            optimizer.zero_grad()\n",
        "            output = model(data)\n",
        "            loss = criterion(output, data.view(-1, 28*28))\n",
        "            loss.backward()\n",
        "            optimizer.step()\n",
        "\n",
        "            running_loss += loss.item()\n",
        "\n",
        "        avg_loss = running_loss / len(trainloader)\n",
        "        train_loss.append(avg_loss)\n",
        "        print(f\"Epoch [{epoch+1}/{epochs}], Loss: {avg_loss:.4f}\")\n",
        "\n",
        "    return train_loss"
      ],
      "metadata": {
        "id": "sx-tWjnp8BTk"
      },
      "execution_count": 8,
      "outputs": []
    },
    {
      "cell_type": "markdown",
      "source": [
        "Create the Autoencoder models and , train each model"
      ],
      "metadata": {
        "id": "vmZvlC8p9RHJ"
      }
    },
    {
      "cell_type": "code",
      "source": [
        "device = torch.device(\"cuda\" if torch.cuda.is_available() else \"cpu\")\n",
        "\n",
        "\n",
        "model_simple = Autoencoder().to(device)\n",
        "model_medium = AutoencoderMedium().to(device)\n",
        "model_deep = AutoencoderDeep().to(device)\n",
        "\n",
        "\n",
        "loss_simple = train_autoencoder(model_simple, trainloader, epochs=10)\n",
        "loss_medium = train_autoencoder(model_medium, trainloader, epochs=10)\n",
        "loss_deep = train_autoencoder(model_deep, trainloader, epochs=10)"
      ],
      "metadata": {
        "colab": {
          "base_uri": "https://localhost:8080/"
        },
        "id": "9Oe33cUN8CTF",
        "outputId": "8133f444-34cd-47eb-e3c3-57feeaf69a50"
      },
      "execution_count": 9,
      "outputs": [
        {
          "output_type": "stream",
          "name": "stdout",
          "text": [
            "Epoch [1/10], Loss: 0.6162\n",
            "Epoch [2/10], Loss: 0.5927\n",
            "Epoch [3/10], Loss: 0.5882\n",
            "Epoch [4/10], Loss: 0.5859\n",
            "Epoch [5/10], Loss: 0.5848\n",
            "Epoch [6/10], Loss: 0.5842\n",
            "Epoch [7/10], Loss: 0.5839\n",
            "Epoch [8/10], Loss: 0.5837\n",
            "Epoch [9/10], Loss: 0.5835\n",
            "Epoch [10/10], Loss: 0.5834\n",
            "Epoch [1/10], Loss: 0.6235\n",
            "Epoch [2/10], Loss: 0.5988\n",
            "Epoch [3/10], Loss: 0.5948\n",
            "Epoch [4/10], Loss: 0.5926\n",
            "Epoch [5/10], Loss: 0.5912\n",
            "Epoch [6/10], Loss: 0.5903\n",
            "Epoch [7/10], Loss: 0.5895\n",
            "Epoch [8/10], Loss: 0.5888\n",
            "Epoch [9/10], Loss: 0.5883\n",
            "Epoch [10/10], Loss: 0.5879\n",
            "Epoch [1/10], Loss: 0.6283\n",
            "Epoch [2/10], Loss: 0.6016\n",
            "Epoch [3/10], Loss: 0.5977\n",
            "Epoch [4/10], Loss: 0.5952\n",
            "Epoch [5/10], Loss: 0.5935\n",
            "Epoch [6/10], Loss: 0.5925\n",
            "Epoch [7/10], Loss: 0.5916\n",
            "Epoch [8/10], Loss: 0.5909\n",
            "Epoch [9/10], Loss: 0.5902\n",
            "Epoch [10/10], Loss: 0.5897\n"
          ]
        }
      ]
    },
    {
      "cell_type": "markdown",
      "source": [
        "Plot the training loss for each architecture"
      ],
      "metadata": {
        "id": "18JlyzH_9kTs"
      }
    },
    {
      "cell_type": "code",
      "source": [
        "\n",
        "plt.plot(loss_simple, label='Simple AE')\n",
        "plt.plot(loss_medium, label='Medium AE')\n",
        "plt.plot(loss_deep, label='Deep AE')\n",
        "plt.legend()\n",
        "plt.xlabel('Epochs')\n",
        "plt.ylabel('Loss')\n",
        "plt.title('Training Loss for Different Autoencoders')\n",
        "plt.show()"
      ],
      "metadata": {
        "colab": {
          "base_uri": "https://localhost:8080/",
          "height": 472
        },
        "id": "bHJXSDNw8GBV",
        "outputId": "52e358e6-4a18-4c46-9c69-968ee24fae66"
      },
      "execution_count": 10,
      "outputs": [
        {
          "output_type": "display_data",
          "data": {
            "text/plain": [
              "<Figure size 640x480 with 1 Axes>"
            ],
            "image/png": "[encoded data removed]"
          },
          "metadata": {}
        }
      ]
    },
    {
      "cell_type": "markdown",
      "source": [
        " Plot 10 pairs of clothes (input, AE output)"
      ],
      "metadata": {
        "id": "BE4aimyX9nT_"
      }
    },
    {
      "cell_type": "code",
      "source": [
        "def generate_new_clothes(model, testloader, num_images=10):\n",
        "    model.eval()\n",
        "    with torch.no_grad():\n",
        "        data, labels = next(iter(testloader))\n",
        "        data = data.to(device)\n",
        "\n",
        "        output = model(data)\n",
        "\n",
        "\n",
        "        for i in range(num_images):\n",
        "            plt.subplot(2, 10, i+1)\n",
        "            plt.imshow(data[i].cpu().squeeze(0), cmap='gray')\n",
        "            plt.title(f'Label: {labels[i]}')\n",
        "            plt.axis('off')\n",
        "\n",
        "            plt.subplot(2, 10, i+11)\n",
        "            plt.imshow(output[i].cpu().view(28, 28), cmap='gray')\n",
        "            plt.axis('off')\n",
        "        plt.show()\n",
        "\n",
        "generate_new_clothes(model_medium, testloader)"
      ],
      "metadata": {
        "colab": {
          "base_uri": "https://localhost:8080/",
          "height": 302
        },
        "id": "YN-vcfAH8K-_",
        "outputId": "192cf574-9b10-4c2a-8e72-a0e038d8c47d"
      },
      "execution_count": 11,
      "outputs": [
        {
          "output_type": "display_data",
          "data": {
            "text/plain": [
              "<Figure size 640x480 with 20 Axes>"
            ],
            "image/png": "[encoded data removed]"
          },
          "metadata": {}
        }
      ]
    },
    {
      "cell_type": "markdown",
      "source": [
        "Regarding the chosen Autoencoder architecture, the simple model typically offers speed and ease of implementation, but it may not capture enough features in datasets like Fashion MNIST. The medium architecture, on the other hand, strikes a balance between simplicity and performance, allowing the model to extract features more effectively. Since this architecture performed better on the test set, without showing signs of overfitting, it was selected. Although deeper architectures are expected to provide better reconstruction results, considering the risks of overfitting and the higher computational requirements, the medium architecture turned out to be a more suitable choice."
      ],
      "metadata": {
        "id": "nWEBqiIK94gY"
      }
    },
    {
      "cell_type": "markdown",
      "source": [
        "As for the test set outputs, a properly trained Autoencoder should produce outputs that closely resemble the inputs. If there is a significant difference between the input and output, it indicates a shortcoming in the training. In that case, the model may need further training or architectural adjustments. Thus, I observed that the model was well-trained and produced outputs consistent with the test data."
      ],
      "metadata": {
        "id": "WGPOO_zM95Mu"
      }
    }
  ]
}